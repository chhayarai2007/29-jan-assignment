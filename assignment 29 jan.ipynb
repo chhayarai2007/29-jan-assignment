{
 "cells": [
  {
   "cell_type": "markdown",
   "id": "a0c1955f-cba2-42db-b089-b61172f99d3b",
   "metadata": {},
   "source": [
    "1. Who developed Python Programming Language? \n",
    "\n",
    "ans:-Guido van Rossum"
   ]
  },
  {
   "cell_type": "markdown",
   "id": "c5a79d9a-6a0f-4d59-80d9-851d2ac1ed45",
   "metadata": {},
   "source": [
    "2. Which type of Programming does Python support? \n",
    "\n",
    "ans:-Object-oriented programming and structured programming\n"
   ]
  },
  {
   "cell_type": "markdown",
   "id": "8fbffddf-aa48-4eb4-8018-d25e79b492d3",
   "metadata": {},
   "source": [
    "3. Is Python case sensitive when dealing with identifiers? \n",
    "\n",
    "ans:-Yes, Python is a case-sensitive language, i.e., it treats uppercase and lowercase characters differently.\n",
    "This applies to identifiers too. You must avoid using the same name with different cases while naming identifiers\n"
   ]
  },
  {
   "cell_type": "markdown",
   "id": "ef373cbf-e5bd-4a9e-962f-4f4c3d34e0ab",
   "metadata": {},
   "source": [
    "4. What is the correct extension of the Python file? \n",
    "\n",
    "ans:-.py"
   ]
  },
  {
   "cell_type": "markdown",
   "id": "eae18454-8196-4060-a763-237058766316",
   "metadata": {},
   "source": [
    "5. Is Python code compiled or interpreted? \n",
    "\n",
    "ans:-Python is an interpreted language, which means the source code of a Python program is converted into bytecode that\n",
    "is then executed by the Python virtual machine. Python is different from major compiled languages, "
   ]
  },
  {
   "cell_type": "markdown",
   "id": "e0bd0329-4b51-4bba-8ede-771b105c0fb7",
   "metadata": {},
   "source": [
    "6. Name a few blocks of code used to define in Python language? \n",
    "ans:-odule, a function body, and a class definition. Each command typed interactively is a block. A script file \n",
    "(a file given as standard input to the interpreter or specified as a command line argument to the interpreter) is a code block."
   ]
  },
  {
   "cell_type": "markdown",
   "id": "4f1902b1-d595-499b-9851-6a9f7d0338c8",
   "metadata": {},
   "source": [
    "7.State a character used to give single-line comments in Python? \n",
    "ans:-We can write a single-line comment by adding a single \n"
   ]
  },
  {
   "cell_type": "markdown",
   "id": "5add881c-d497-47a7-b615-1df7902f67af",
   "metadata": {},
   "source": [
    "8. Mention functions which can help us to find the version of python that we are currently working on? \n",
    "\n",
    "ans:-The function sys. version can help us to find the version of python that we are currently working on. \n",
    "It also contains information on the build number and compiler used"
   ]
  },
  {
   "cell_type": "markdown",
   "id": "c64e3bc1-d279-4d2b-8ca9-361ae958ebc0",
   "metadata": {},
   "source": [
    "9. Python supports the creation of anonymous functions at runtime, using a construct called \n",
    "\n",
    "ans:- \"lambda\" \n"
   ]
  },
  {
   "cell_type": "markdown",
   "id": "199c1423-eeb7-4bc3-b935-416598f9c70f",
   "metadata": {},
   "source": [
    "10)ans:-pip Install Packages”"
   ]
  }
 ],
 "metadata": {
  "kernelspec": {
   "display_name": "Python 3 (ipykernel)",
   "language": "python",
   "name": "python3"
  },
  "language_info": {
   "codemirror_mode": {
    "name": "ipython",
    "version": 3
   },
   "file_extension": ".py",
   "mimetype": "text/x-python",
   "name": "python",
   "nbconvert_exporter": "python",
   "pygments_lexer": "ipython3",
   "version": "3.10.8"
  }
 },
 "nbformat": 4,
 "nbformat_minor": 5
}
